{
 "cells": [
  {
   "cell_type": "code",
   "execution_count": 42,
   "metadata": {},
   "outputs": [],
   "source": [
    "import pandas as pd\n",
    "import matplotlib.pyplot as plt\n",
    "from matplotlib.pyplot import figure\n",
    "from numpy import *\n",
    "import math"
   ]
  },
  {
   "cell_type": "markdown",
   "metadata": {},
   "source": [
    "Los datos de la vacuna fueron extraídos del repositorio Github del Ministerio de Ciencias de Chile, fue escogido el producto 81 que ordena los datos con el codigo de comuna y la cantidad de vacunados de cierta edad."
   ]
  },
  {
   "cell_type": "code",
   "execution_count": 2,
   "metadata": {},
   "outputs": [
    {
     "data": {
      "text/html": [
       "<div>\n",
       "<style scoped>\n",
       "    .dataframe tbody tr th:only-of-type {\n",
       "        vertical-align: middle;\n",
       "    }\n",
       "\n",
       "    .dataframe tbody tr th {\n",
       "        vertical-align: top;\n",
       "    }\n",
       "\n",
       "    .dataframe thead th {\n",
       "        text-align: right;\n",
       "    }\n",
       "</style>\n",
       "<table border=\"1\" class=\"dataframe\">\n",
       "  <thead>\n",
       "    <tr style=\"text-align: right;\">\n",
       "      <th></th>\n",
       "      <th>Region</th>\n",
       "      <th>Codigo region</th>\n",
       "      <th>Comuna</th>\n",
       "      <th>Codigo comuna</th>\n",
       "      <th>Poblacion</th>\n",
       "      <th>15</th>\n",
       "      <th>16</th>\n",
       "      <th>17</th>\n",
       "      <th>18</th>\n",
       "      <th>19</th>\n",
       "      <th>...</th>\n",
       "      <th>71</th>\n",
       "      <th>72</th>\n",
       "      <th>73</th>\n",
       "      <th>74</th>\n",
       "      <th>75</th>\n",
       "      <th>76</th>\n",
       "      <th>77</th>\n",
       "      <th>78</th>\n",
       "      <th>79</th>\n",
       "      <th>80</th>\n",
       "    </tr>\n",
       "  </thead>\n",
       "  <tbody>\n",
       "    <tr>\n",
       "      <th>88</th>\n",
       "      <td>Metropolitana</td>\n",
       "      <td>13</td>\n",
       "      <td>Alhue</td>\n",
       "      <td>13502.0</td>\n",
       "      <td>7405.0</td>\n",
       "      <td>0.0</td>\n",
       "      <td>0.0</td>\n",
       "      <td>0.0</td>\n",
       "      <td>17.0</td>\n",
       "      <td>19.0</td>\n",
       "      <td>...</td>\n",
       "      <td>62.0</td>\n",
       "      <td>40.0</td>\n",
       "      <td>44.0</td>\n",
       "      <td>33.0</td>\n",
       "      <td>34.0</td>\n",
       "      <td>37.0</td>\n",
       "      <td>26.0</td>\n",
       "      <td>30.0</td>\n",
       "      <td>22.0</td>\n",
       "      <td>186.0</td>\n",
       "    </tr>\n",
       "    <tr>\n",
       "      <th>89</th>\n",
       "      <td>Metropolitana</td>\n",
       "      <td>13</td>\n",
       "      <td>Buin</td>\n",
       "      <td>13402.0</td>\n",
       "      <td>109641.0</td>\n",
       "      <td>0.0</td>\n",
       "      <td>0.0</td>\n",
       "      <td>0.0</td>\n",
       "      <td>224.0</td>\n",
       "      <td>274.0</td>\n",
       "      <td>...</td>\n",
       "      <td>595.0</td>\n",
       "      <td>537.0</td>\n",
       "      <td>481.0</td>\n",
       "      <td>429.0</td>\n",
       "      <td>412.0</td>\n",
       "      <td>413.0</td>\n",
       "      <td>368.0</td>\n",
       "      <td>353.0</td>\n",
       "      <td>299.0</td>\n",
       "      <td>2153.0</td>\n",
       "    </tr>\n",
       "    <tr>\n",
       "      <th>90</th>\n",
       "      <td>Metropolitana</td>\n",
       "      <td>13</td>\n",
       "      <td>Calera de Tango</td>\n",
       "      <td>13403.0</td>\n",
       "      <td>28525.0</td>\n",
       "      <td>0.0</td>\n",
       "      <td>0.0</td>\n",
       "      <td>0.0</td>\n",
       "      <td>91.0</td>\n",
       "      <td>71.0</td>\n",
       "      <td>...</td>\n",
       "      <td>193.0</td>\n",
       "      <td>189.0</td>\n",
       "      <td>142.0</td>\n",
       "      <td>149.0</td>\n",
       "      <td>131.0</td>\n",
       "      <td>144.0</td>\n",
       "      <td>125.0</td>\n",
       "      <td>106.0</td>\n",
       "      <td>73.0</td>\n",
       "      <td>711.0</td>\n",
       "    </tr>\n",
       "    <tr>\n",
       "      <th>91</th>\n",
       "      <td>Metropolitana</td>\n",
       "      <td>13</td>\n",
       "      <td>Cerrillos</td>\n",
       "      <td>13102.0</td>\n",
       "      <td>88956.0</td>\n",
       "      <td>0.0</td>\n",
       "      <td>0.0</td>\n",
       "      <td>0.0</td>\n",
       "      <td>158.0</td>\n",
       "      <td>136.0</td>\n",
       "      <td>...</td>\n",
       "      <td>454.0</td>\n",
       "      <td>471.0</td>\n",
       "      <td>492.0</td>\n",
       "      <td>506.0</td>\n",
       "      <td>378.0</td>\n",
       "      <td>427.0</td>\n",
       "      <td>384.0</td>\n",
       "      <td>375.0</td>\n",
       "      <td>392.0</td>\n",
       "      <td>2361.0</td>\n",
       "    </tr>\n",
       "    <tr>\n",
       "      <th>92</th>\n",
       "      <td>Metropolitana</td>\n",
       "      <td>13</td>\n",
       "      <td>Cerro Navia</td>\n",
       "      <td>13103.0</td>\n",
       "      <td>142465.0</td>\n",
       "      <td>0.0</td>\n",
       "      <td>0.0</td>\n",
       "      <td>0.0</td>\n",
       "      <td>245.0</td>\n",
       "      <td>329.0</td>\n",
       "      <td>...</td>\n",
       "      <td>816.0</td>\n",
       "      <td>775.0</td>\n",
       "      <td>733.0</td>\n",
       "      <td>681.0</td>\n",
       "      <td>716.0</td>\n",
       "      <td>631.0</td>\n",
       "      <td>587.0</td>\n",
       "      <td>554.0</td>\n",
       "      <td>494.0</td>\n",
       "      <td>3069.0</td>\n",
       "    </tr>\n",
       "  </tbody>\n",
       "</table>\n",
       "<p>5 rows × 71 columns</p>\n",
       "</div>"
      ],
      "text/plain": [
       "           Region  Codigo region           Comuna  Codigo comuna  Poblacion  \\\n",
       "88  Metropolitana             13            Alhue        13502.0     7405.0   \n",
       "89  Metropolitana             13             Buin        13402.0   109641.0   \n",
       "90  Metropolitana             13  Calera de Tango        13403.0    28525.0   \n",
       "91  Metropolitana             13        Cerrillos        13102.0    88956.0   \n",
       "92  Metropolitana             13      Cerro Navia        13103.0   142465.0   \n",
       "\n",
       "     15   16   17     18     19  ...     71     72     73     74     75  \\\n",
       "88  0.0  0.0  0.0   17.0   19.0  ...   62.0   40.0   44.0   33.0   34.0   \n",
       "89  0.0  0.0  0.0  224.0  274.0  ...  595.0  537.0  481.0  429.0  412.0   \n",
       "90  0.0  0.0  0.0   91.0   71.0  ...  193.0  189.0  142.0  149.0  131.0   \n",
       "91  0.0  0.0  0.0  158.0  136.0  ...  454.0  471.0  492.0  506.0  378.0   \n",
       "92  0.0  0.0  0.0  245.0  329.0  ...  816.0  775.0  733.0  681.0  716.0   \n",
       "\n",
       "       76     77     78     79      80  \n",
       "88   37.0   26.0   30.0   22.0   186.0  \n",
       "89  413.0  368.0  353.0  299.0  2153.0  \n",
       "90  144.0  125.0  106.0   73.0   711.0  \n",
       "91  427.0  384.0  375.0  392.0  2361.0  \n",
       "92  631.0  587.0  554.0  494.0  3069.0  \n",
       "\n",
       "[5 rows x 71 columns]"
      ]
     },
     "execution_count": 2,
     "metadata": {},
     "output_type": "execute_result"
    }
   ],
   "source": [
    "url_data = (r'https://raw.githubusercontent.com/MinCiencia/Datos-COVID19/master/output/producto81/vacunacion_comuna_edad_1eraDosis.csv')\n",
    "\n",
    "vacunas = pd.read_csv(url_data)\n",
    "dfvac = pd.DataFrame(vacunas)\n",
    "dfvac = dfvac.loc[dfvac['Region'] == 'Metropolitana']\n",
    "\n",
    "dfvac.head()"
   ]
  },
  {
   "cell_type": "markdown",
   "metadata": {},
   "source": [
    "https://www.interviewqs.com/ddi-code-snippets/rows-cols-python"
   ]
  },
  {
   "cell_type": "code",
   "execution_count": 3,
   "metadata": {},
   "outputs": [
    {
     "data": {
      "text/html": [
       "<div>\n",
       "<style scoped>\n",
       "    .dataframe tbody tr th:only-of-type {\n",
       "        vertical-align: middle;\n",
       "    }\n",
       "\n",
       "    .dataframe tbody tr th {\n",
       "        vertical-align: top;\n",
       "    }\n",
       "\n",
       "    .dataframe thead th {\n",
       "        text-align: right;\n",
       "    }\n",
       "</style>\n",
       "<table border=\"1\" class=\"dataframe\">\n",
       "  <thead>\n",
       "    <tr style=\"text-align: right;\">\n",
       "      <th></th>\n",
       "      <th>comuna</th>\n",
       "      <th>LEI</th>\n",
       "      <th>II</th>\n",
       "      <th>EI</th>\n",
       "      <th>idh</th>\n",
       "      <th>HDI</th>\n",
       "    </tr>\n",
       "  </thead>\n",
       "  <tbody>\n",
       "    <tr>\n",
       "      <th>0</th>\n",
       "      <td>13101</td>\n",
       "      <td>0.791672</td>\n",
       "      <td>0.873137</td>\n",
       "      <td>0.924099</td>\n",
       "      <td>0.807</td>\n",
       "      <td>0.861222</td>\n",
       "    </tr>\n",
       "    <tr>\n",
       "      <th>1</th>\n",
       "      <td>13102</td>\n",
       "      <td>0.782817</td>\n",
       "      <td>0.800343</td>\n",
       "      <td>0.713499</td>\n",
       "      <td>0.743</td>\n",
       "      <td>0.764616</td>\n",
       "    </tr>\n",
       "    <tr>\n",
       "      <th>2</th>\n",
       "      <td>13103</td>\n",
       "      <td>0.752447</td>\n",
       "      <td>0.750382</td>\n",
       "      <td>0.657961</td>\n",
       "      <td>0.683</td>\n",
       "      <td>0.718874</td>\n",
       "    </tr>\n",
       "    <tr>\n",
       "      <th>3</th>\n",
       "      <td>13104</td>\n",
       "      <td>0.784872</td>\n",
       "      <td>0.760697</td>\n",
       "      <td>0.705426</td>\n",
       "      <td>0.707</td>\n",
       "      <td>0.749584</td>\n",
       "    </tr>\n",
       "    <tr>\n",
       "      <th>4</th>\n",
       "      <td>13105</td>\n",
       "      <td>0.777236</td>\n",
       "      <td>0.780019</td>\n",
       "      <td>0.673876</td>\n",
       "      <td>0.711</td>\n",
       "      <td>0.742015</td>\n",
       "    </tr>\n",
       "  </tbody>\n",
       "</table>\n",
       "</div>"
      ],
      "text/plain": [
       "   comuna       LEI        II        EI    idh       HDI\n",
       "0   13101  0.791672  0.873137  0.924099  0.807  0.861222\n",
       "1   13102  0.782817  0.800343  0.713499  0.743  0.764616\n",
       "2   13103  0.752447  0.750382  0.657961  0.683  0.718874\n",
       "3   13104  0.784872  0.760697  0.705426  0.707  0.749584\n",
       "4   13105  0.777236  0.780019  0.673876  0.711  0.742015"
      ]
     },
     "execution_count": 3,
     "metadata": {},
     "output_type": "execute_result"
    }
   ],
   "source": [
    "url_data = (r'https://raw.githubusercontent.com/leoferres/gitiele356b/main/data/hdi.csv')\n",
    "\n",
    "idh = pd.read_csv(url_data)\n",
    "dfidh = pd.DataFrame(idh)\n",
    "\n",
    "dfidh.head()"
   ]
  },
  {
   "cell_type": "code",
   "execution_count": 24,
   "metadata": {},
   "outputs": [
    {
     "data": {
      "text/html": [
       "<div>\n",
       "<style scoped>\n",
       "    .dataframe tbody tr th:only-of-type {\n",
       "        vertical-align: middle;\n",
       "    }\n",
       "\n",
       "    .dataframe tbody tr th {\n",
       "        vertical-align: top;\n",
       "    }\n",
       "\n",
       "    .dataframe thead th {\n",
       "        text-align: right;\n",
       "    }\n",
       "</style>\n",
       "<table border=\"1\" class=\"dataframe\">\n",
       "  <thead>\n",
       "    <tr style=\"text-align: right;\">\n",
       "      <th></th>\n",
       "      <th>COMUNA</th>\n",
       "      <th>EDAD_0A5</th>\n",
       "      <th>EDAD_6A14</th>\n",
       "      <th>EDAD_15A64</th>\n",
       "      <th>EDAD_65YMAS</th>\n",
       "    </tr>\n",
       "  </thead>\n",
       "  <tbody>\n",
       "    <tr>\n",
       "      <th>0</th>\n",
       "      <td>1101</td>\n",
       "      <td>0</td>\n",
       "      <td>0</td>\n",
       "      <td>15</td>\n",
       "      <td>0</td>\n",
       "    </tr>\n",
       "    <tr>\n",
       "      <th>1</th>\n",
       "      <td>1101</td>\n",
       "      <td>*</td>\n",
       "      <td>*</td>\n",
       "      <td>54</td>\n",
       "      <td>10</td>\n",
       "    </tr>\n",
       "    <tr>\n",
       "      <th>2</th>\n",
       "      <td>1101</td>\n",
       "      <td>*</td>\n",
       "      <td>0</td>\n",
       "      <td>28</td>\n",
       "      <td>*</td>\n",
       "    </tr>\n",
       "    <tr>\n",
       "      <th>3</th>\n",
       "      <td>1101</td>\n",
       "      <td>*</td>\n",
       "      <td>7</td>\n",
       "      <td>49</td>\n",
       "      <td>*</td>\n",
       "    </tr>\n",
       "    <tr>\n",
       "      <th>4</th>\n",
       "      <td>1101</td>\n",
       "      <td>*</td>\n",
       "      <td>*</td>\n",
       "      <td>26</td>\n",
       "      <td>7</td>\n",
       "    </tr>\n",
       "  </tbody>\n",
       "</table>\n",
       "</div>"
      ],
      "text/plain": [
       "   COMUNA EDAD_0A5 EDAD_6A14 EDAD_15A64 EDAD_65YMAS\n",
       "0    1101        0         0         15           0\n",
       "1    1101        *         *         54          10\n",
       "2    1101        *         0         28           *\n",
       "3    1101        *         7         49           *\n",
       "4    1101        *         *         26           7"
      ]
     },
     "execution_count": 24,
     "metadata": {},
     "output_type": "execute_result"
    }
   ],
   "source": [
    "url_data = (r'https://raw.githubusercontent.com/leoferres/gitiele356b/main/data/pobXedadCenso.csv')\n",
    "\n",
    "pob = pd.read_csv(url_data)\n",
    "dfpob = pd.DataFrame(pob)\n",
    "dfpob.head()"
   ]
  },
  {
   "cell_type": "markdown",
   "metadata": {},
   "source": [
    "Una vez lista la importación de los datos, se comenzará con la revisión de la integridad de estos."
   ]
  },
  {
   "cell_type": "code",
   "execution_count": 25,
   "metadata": {},
   "outputs": [
    {
     "name": "stdout",
     "output_type": "stream",
     "text": [
      "(0, 71)\n",
      "(0, 6)\n",
      "(25911, 5)\n"
     ]
    },
    {
     "name": "stderr",
     "output_type": "stream",
     "text": [
      "<ipython-input-25-bd9937ca663f>:1: UserWarning: Boolean Series key will be reindexed to match DataFrame index.\n",
      "  d1 = dfvac[vacunas.duplicated()].shape\n"
     ]
    }
   ],
   "source": [
    "d1 = dfvac[vacunas.duplicated()].shape\n",
    "d2 = dfidh[dfidh.duplicated()].shape\n",
    "d3 = dfpob[dfpob.duplicated()].shape\n",
    "\n",
    "print(d1)\n",
    "print(d2)\n",
    "print(d3)"
   ]
  },
  {
   "cell_type": "markdown",
   "metadata": {},
   "source": [
    "En los datos de vacuna y de IDH no tenemos datos duplicados, sin embargo, nos podemos dar cuenta que en los datos de la población por comuna existen múltiples entradas para un mismo código de comuna, se asumirá que deben ser sumados por comuna."
   ]
  },
  {
   "cell_type": "markdown",
   "metadata": {},
   "source": [
    "https://stackoverflow.com/questions/56759142/pandas-replace-the-asterisk-sign-from-two-columns-in-one-go"
   ]
  },
  {
   "cell_type": "code",
   "execution_count": 26,
   "metadata": {},
   "outputs": [
    {
     "data": {
      "text/html": [
       "<div>\n",
       "<style scoped>\n",
       "    .dataframe tbody tr th:only-of-type {\n",
       "        vertical-align: middle;\n",
       "    }\n",
       "\n",
       "    .dataframe tbody tr th {\n",
       "        vertical-align: top;\n",
       "    }\n",
       "\n",
       "    .dataframe thead th {\n",
       "        text-align: right;\n",
       "    }\n",
       "</style>\n",
       "<table border=\"1\" class=\"dataframe\">\n",
       "  <thead>\n",
       "    <tr style=\"text-align: right;\">\n",
       "      <th></th>\n",
       "      <th>COMUNA</th>\n",
       "      <th>EDAD_0A5</th>\n",
       "      <th>EDAD_6A14</th>\n",
       "      <th>EDAD_15A64</th>\n",
       "      <th>EDAD_65YMAS</th>\n",
       "    </tr>\n",
       "  </thead>\n",
       "  <tbody>\n",
       "    <tr>\n",
       "      <th>0</th>\n",
       "      <td>1101</td>\n",
       "      <td>0</td>\n",
       "      <td>0</td>\n",
       "      <td>15</td>\n",
       "      <td>0</td>\n",
       "    </tr>\n",
       "    <tr>\n",
       "      <th>1</th>\n",
       "      <td>1101</td>\n",
       "      <td>0</td>\n",
       "      <td>0</td>\n",
       "      <td>54</td>\n",
       "      <td>10</td>\n",
       "    </tr>\n",
       "    <tr>\n",
       "      <th>2</th>\n",
       "      <td>1101</td>\n",
       "      <td>0</td>\n",
       "      <td>0</td>\n",
       "      <td>28</td>\n",
       "      <td>0</td>\n",
       "    </tr>\n",
       "    <tr>\n",
       "      <th>3</th>\n",
       "      <td>1101</td>\n",
       "      <td>0</td>\n",
       "      <td>7</td>\n",
       "      <td>49</td>\n",
       "      <td>0</td>\n",
       "    </tr>\n",
       "    <tr>\n",
       "      <th>4</th>\n",
       "      <td>1101</td>\n",
       "      <td>0</td>\n",
       "      <td>0</td>\n",
       "      <td>26</td>\n",
       "      <td>7</td>\n",
       "    </tr>\n",
       "  </tbody>\n",
       "</table>\n",
       "</div>"
      ],
      "text/plain": [
       "   COMUNA EDAD_0A5 EDAD_6A14 EDAD_15A64 EDAD_65YMAS\n",
       "0    1101        0         0         15           0\n",
       "1    1101        0         0         54          10\n",
       "2    1101        0         0         28           0\n",
       "3    1101        0         7         49           0\n",
       "4    1101        0         0         26           7"
      ]
     },
     "execution_count": 26,
     "metadata": {},
     "output_type": "execute_result"
    }
   ],
   "source": [
    "dfpob = dfpob.replace({'\\*': '0'}, regex=True)\n",
    "dfpob.head()"
   ]
  },
  {
   "cell_type": "code",
   "execution_count": 17,
   "metadata": {},
   "outputs": [
    {
     "data": {
      "text/plain": [
       "COMUNA          int64\n",
       "EDAD_0A5       object\n",
       "EDAD_6A14      object\n",
       "EDAD_15A64     object\n",
       "EDAD_65YMAS    object\n",
       "dtype: object"
      ]
     },
     "execution_count": 17,
     "metadata": {},
     "output_type": "execute_result"
    }
   ],
   "source": [
    "dfpob.dtypes"
   ]
  },
  {
   "cell_type": "markdown",
   "metadata": {},
   "source": [
    "https://stackoverflow.com/questions/15891038/change-column-type-in-pandas"
   ]
  },
  {
   "cell_type": "code",
   "execution_count": null,
   "metadata": {
    "scrolled": true
   },
   "outputs": [],
   "source": [
    "dfpob['EDAD_0A5'] = pd.to_numeric(dfpob['EDAD_0A5'])"
   ]
  },
  {
   "cell_type": "code",
   "execution_count": 27,
   "metadata": {},
   "outputs": [],
   "source": [
    "dfpob[['EDAD_0A5', 'EDAD_6A14', 'EDAD_15A64', 'EDAD_65YMAS']] = dfpob[['EDAD_0A5', 'EDAD_6A14', 'EDAD_15A64', 'EDAD_65YMAS']].apply(pd.to_numeric)"
   ]
  },
  {
   "cell_type": "code",
   "execution_count": 19,
   "metadata": {},
   "outputs": [
    {
     "data": {
      "text/plain": [
       "['COMUNA', 'EDAD_0A5', 'EDAD_6A14', 'EDAD_15A64', 'EDAD_65YMAS']"
      ]
     },
     "execution_count": 19,
     "metadata": {},
     "output_type": "execute_result"
    }
   ],
   "source": [
    "list(dfpob.columns.values)"
   ]
  },
  {
   "cell_type": "code",
   "execution_count": 20,
   "metadata": {
    "scrolled": false
   },
   "outputs": [
    {
     "data": {
      "text/plain": [
       "COMUNA         int64\n",
       "EDAD_0A5       int64\n",
       "EDAD_6A14      int64\n",
       "EDAD_15A64     int64\n",
       "EDAD_65YMAS    int64\n",
       "dtype: object"
      ]
     },
     "execution_count": 20,
     "metadata": {},
     "output_type": "execute_result"
    }
   ],
   "source": [
    "dfpob.dtypes"
   ]
  },
  {
   "cell_type": "code",
   "execution_count": 21,
   "metadata": {
    "scrolled": true
   },
   "outputs": [
    {
     "data": {
      "text/plain": [
       "COMUNA         1622601098\n",
       "EDAD_0A5          1146783\n",
       "EDAD_6A14         1871924\n",
       "EDAD_15A64       11952655\n",
       "EDAD_65YMAS       1817479\n",
       "dtype: int64"
      ]
     },
     "execution_count": 21,
     "metadata": {},
     "output_type": "execute_result"
    }
   ],
   "source": [
    "dfpob.sum()"
   ]
  },
  {
   "cell_type": "markdown",
   "metadata": {},
   "source": [
    "Los datos son cercanos a 17 millones por lo tanto tienen sentido."
   ]
  },
  {
   "cell_type": "markdown",
   "metadata": {},
   "source": [
    "**Agrupar los datos de población por codigo de comuna**"
   ]
  },
  {
   "cell_type": "code",
   "execution_count": 28,
   "metadata": {},
   "outputs": [],
   "source": [
    "dfpob = dfpob.groupby(by=[\"COMUNA\"], as_index=False).sum().reset_index(drop=True)\n"
   ]
  },
  {
   "cell_type": "markdown",
   "metadata": {},
   "source": [
    "https://pandas.pydata.org/pandas-docs/stable/reference/api/pandas.DataFrame.groupby.html <br>\n",
    "\n",
    "https://stackoverflow.com/questions/41658498/in-pandas-after-groupby-the-grouped-column-is-gone\n"
   ]
  },
  {
   "cell_type": "code",
   "execution_count": 29,
   "metadata": {
    "scrolled": true
   },
   "outputs": [
    {
     "data": {
      "text/html": [
       "<div>\n",
       "<style scoped>\n",
       "    .dataframe tbody tr th:only-of-type {\n",
       "        vertical-align: middle;\n",
       "    }\n",
       "\n",
       "    .dataframe tbody tr th {\n",
       "        vertical-align: top;\n",
       "    }\n",
       "\n",
       "    .dataframe thead th {\n",
       "        text-align: right;\n",
       "    }\n",
       "</style>\n",
       "<table border=\"1\" class=\"dataframe\">\n",
       "  <thead>\n",
       "    <tr style=\"text-align: right;\">\n",
       "      <th></th>\n",
       "      <th>COMUNA</th>\n",
       "      <th>EDAD_0A5</th>\n",
       "      <th>EDAD_6A14</th>\n",
       "      <th>EDAD_15A64</th>\n",
       "      <th>EDAD_65YMAS</th>\n",
       "    </tr>\n",
       "  </thead>\n",
       "  <tbody>\n",
       "    <tr>\n",
       "      <th>0</th>\n",
       "      <td>1101</td>\n",
       "      <td>15490</td>\n",
       "      <td>22691</td>\n",
       "      <td>132629</td>\n",
       "      <td>16895</td>\n",
       "    </tr>\n",
       "    <tr>\n",
       "      <th>1</th>\n",
       "      <td>1107</td>\n",
       "      <td>10105</td>\n",
       "      <td>17365</td>\n",
       "      <td>72866</td>\n",
       "      <td>3908</td>\n",
       "    </tr>\n",
       "    <tr>\n",
       "      <th>2</th>\n",
       "      <td>1401</td>\n",
       "      <td>899</td>\n",
       "      <td>1786</td>\n",
       "      <td>9446</td>\n",
       "      <td>864</td>\n",
       "    </tr>\n",
       "    <tr>\n",
       "      <th>3</th>\n",
       "      <td>1402</td>\n",
       "      <td>73</td>\n",
       "      <td>134</td>\n",
       "      <td>772</td>\n",
       "      <td>136</td>\n",
       "    </tr>\n",
       "    <tr>\n",
       "      <th>4</th>\n",
       "      <td>1403</td>\n",
       "      <td>75</td>\n",
       "      <td>111</td>\n",
       "      <td>1246</td>\n",
       "      <td>148</td>\n",
       "    </tr>\n",
       "    <tr>\n",
       "      <th>...</th>\n",
       "      <td>...</td>\n",
       "      <td>...</td>\n",
       "      <td>...</td>\n",
       "      <td>...</td>\n",
       "      <td>...</td>\n",
       "    </tr>\n",
       "    <tr>\n",
       "      <th>341</th>\n",
       "      <td>14204</td>\n",
       "      <td>1433</td>\n",
       "      <td>2829</td>\n",
       "      <td>19778</td>\n",
       "      <td>3939</td>\n",
       "    </tr>\n",
       "    <tr>\n",
       "      <th>342</th>\n",
       "      <td>15101</td>\n",
       "      <td>16125</td>\n",
       "      <td>26165</td>\n",
       "      <td>148234</td>\n",
       "      <td>22224</td>\n",
       "    </tr>\n",
       "    <tr>\n",
       "      <th>343</th>\n",
       "      <td>15102</td>\n",
       "      <td>36</td>\n",
       "      <td>74</td>\n",
       "      <td>728</td>\n",
       "      <td>154</td>\n",
       "    </tr>\n",
       "    <tr>\n",
       "      <th>344</th>\n",
       "      <td>15201</td>\n",
       "      <td>31</td>\n",
       "      <td>94</td>\n",
       "      <td>2169</td>\n",
       "      <td>118</td>\n",
       "    </tr>\n",
       "    <tr>\n",
       "      <th>345</th>\n",
       "      <td>15202</td>\n",
       "      <td>15</td>\n",
       "      <td>0</td>\n",
       "      <td>337</td>\n",
       "      <td>64</td>\n",
       "    </tr>\n",
       "  </tbody>\n",
       "</table>\n",
       "<p>346 rows × 5 columns</p>\n",
       "</div>"
      ],
      "text/plain": [
       "     COMUNA  EDAD_0A5  EDAD_6A14  EDAD_15A64  EDAD_65YMAS\n",
       "0      1101     15490      22691      132629        16895\n",
       "1      1107     10105      17365       72866         3908\n",
       "2      1401       899       1786        9446          864\n",
       "3      1402        73        134         772          136\n",
       "4      1403        75        111        1246          148\n",
       "..      ...       ...        ...         ...          ...\n",
       "341   14204      1433       2829       19778         3939\n",
       "342   15101     16125      26165      148234        22224\n",
       "343   15102        36         74         728          154\n",
       "344   15201        31         94        2169          118\n",
       "345   15202        15          0         337           64\n",
       "\n",
       "[346 rows x 5 columns]"
      ]
     },
     "execution_count": 29,
     "metadata": {},
     "output_type": "execute_result"
    }
   ],
   "source": [
    "dfpob"
   ]
  },
  {
   "cell_type": "code",
   "execution_count": 30,
   "metadata": {},
   "outputs": [],
   "source": [
    "dfvac = dfvac.dropna()"
   ]
  },
  {
   "cell_type": "code",
   "execution_count": null,
   "metadata": {},
   "outputs": [],
   "source": [
    "dfcomunas = dfvac.loc[:, 'Comuna':'Codigo comuna']"
   ]
  },
  {
   "cell_type": "code",
   "execution_count": null,
   "metadata": {},
   "outputs": [],
   "source": [
    "dfcomunas "
   ]
  },
  {
   "cell_type": "markdown",
   "metadata": {},
   "source": [
    "https://stackoverflow.com/questions/11285613/selecting-multiple-columns-in-a-pandas-dataframe"
   ]
  },
  {
   "cell_type": "code",
   "execution_count": 37,
   "metadata": {},
   "outputs": [],
   "source": [
    "#dfcomunas.to_csv(r'C:\\Users\\vicen\\Downloads\\dfcomunas.csv', index = False)\n",
    "#dfpob.to_csv(r'C:\\Users\\vicen\\Downloads\\dfpob.csv', index = False)\n",
    "#dfvac.to_csv(r'C:\\Users\\vicen\\Downloads\\dfvac.csv', index = False)\n",
    "#dfidh.to_csv(r'C:\\Users\\vicen\\Downloads\\dfidh.csv', index = False)"
   ]
  },
  {
   "cell_type": "code",
   "execution_count": 31,
   "metadata": {},
   "outputs": [
    {
     "data": {
      "text/plain": [
       "['COMUNA', 'EDAD_0A5', 'EDAD_6A14', 'EDAD_15A64', 'EDAD_65YMAS']"
      ]
     },
     "execution_count": 31,
     "metadata": {},
     "output_type": "execute_result"
    }
   ],
   "source": [
    "list(dfpob.columns.values)"
   ]
  },
  {
   "cell_type": "markdown",
   "metadata": {},
   "source": [
    "**Disclaimer** No pude generar las columnas con los cálculos que quería, por lo tanto exporté los DF e hice las operaciones en excel"
   ]
  },
  {
   "cell_type": "code",
   "execution_count": 33,
   "metadata": {},
   "outputs": [],
   "source": [
    "vacunas = pd.read_csv(r'C:\\Users\\vicen\\Desktop\\Universidad\\Analisis datos 21-1\\vacunas2.csv',delimiter=';')\n",
    "dfvac = pd.DataFrame(vacunas)\n",
    "comunas = pd.read_csv(r'C:\\Users\\vicen\\Desktop\\Universidad\\Analisis datos 21-1\\comunas2.csv',delimiter=';')\n",
    "dfcomunas = pd.DataFrame(comunas)"
   ]
  },
  {
   "cell_type": "code",
   "execution_count": 35,
   "metadata": {},
   "outputs": [
    {
     "data": {
      "text/html": [
       "<div>\n",
       "<style scoped>\n",
       "    .dataframe tbody tr th:only-of-type {\n",
       "        vertical-align: middle;\n",
       "    }\n",
       "\n",
       "    .dataframe tbody tr th {\n",
       "        vertical-align: top;\n",
       "    }\n",
       "\n",
       "    .dataframe thead th {\n",
       "        text-align: right;\n",
       "    }\n",
       "</style>\n",
       "<table border=\"1\" class=\"dataframe\">\n",
       "  <thead>\n",
       "    <tr style=\"text-align: right;\">\n",
       "      <th></th>\n",
       "      <th>Comuna</th>\n",
       "      <th>Codigo comuna</th>\n",
       "      <th>EDAD_0A5</th>\n",
       "      <th>EDAD_6A14</th>\n",
       "      <th>EDAD_15A64</th>\n",
       "      <th>EDAD_65YMAS</th>\n",
       "      <th>TOTAL</th>\n",
       "      <th>PROP 65+</th>\n",
       "      <th>%VACUNAS</th>\n",
       "    </tr>\n",
       "  </thead>\n",
       "  <tbody>\n",
       "    <tr>\n",
       "      <th>0</th>\n",
       "      <td>Alhue</td>\n",
       "      <td>13502</td>\n",
       "      <td>309</td>\n",
       "      <td>489</td>\n",
       "      <td>4472</td>\n",
       "      <td>600</td>\n",
       "      <td>5870</td>\n",
       "      <td>10%</td>\n",
       "      <td>68%</td>\n",
       "    </tr>\n",
       "    <tr>\n",
       "      <th>1</th>\n",
       "      <td>Buin</td>\n",
       "      <td>13402</td>\n",
       "      <td>7296</td>\n",
       "      <td>11651</td>\n",
       "      <td>66360</td>\n",
       "      <td>7667</td>\n",
       "      <td>92974</td>\n",
       "      <td>8%</td>\n",
       "      <td>62%</td>\n",
       "    </tr>\n",
       "    <tr>\n",
       "      <th>2</th>\n",
       "      <td>Calera de Tango</td>\n",
       "      <td>13403</td>\n",
       "      <td>1700</td>\n",
       "      <td>2991</td>\n",
       "      <td>17442</td>\n",
       "      <td>2072</td>\n",
       "      <td>24205</td>\n",
       "      <td>9%</td>\n",
       "      <td>70%</td>\n",
       "    </tr>\n",
       "    <tr>\n",
       "      <th>3</th>\n",
       "      <td>Cerrillos</td>\n",
       "      <td>13102</td>\n",
       "      <td>5907</td>\n",
       "      <td>8703</td>\n",
       "      <td>53650</td>\n",
       "      <td>9273</td>\n",
       "      <td>77533</td>\n",
       "      <td>12%</td>\n",
       "      <td>53%</td>\n",
       "    </tr>\n",
       "    <tr>\n",
       "      <th>4</th>\n",
       "      <td>Cerro Navia</td>\n",
       "      <td>13103</td>\n",
       "      <td>9719</td>\n",
       "      <td>14745</td>\n",
       "      <td>89915</td>\n",
       "      <td>16011</td>\n",
       "      <td>130390</td>\n",
       "      <td>12%</td>\n",
       "      <td>47%</td>\n",
       "    </tr>\n",
       "  </tbody>\n",
       "</table>\n",
       "</div>"
      ],
      "text/plain": [
       "            Comuna  Codigo comuna  EDAD_0A5  EDAD_6A14  EDAD_15A64  \\\n",
       "0            Alhue          13502       309        489        4472   \n",
       "1             Buin          13402      7296      11651       66360   \n",
       "2  Calera de Tango          13403      1700       2991       17442   \n",
       "3        Cerrillos          13102      5907       8703       53650   \n",
       "4      Cerro Navia          13103      9719      14745       89915   \n",
       "\n",
       "   EDAD_65YMAS   TOTAL PROP 65+ %VACUNAS  \n",
       "0          600    5870      10%      68%  \n",
       "1         7667   92974       8%      62%  \n",
       "2         2072   24205       9%      70%  \n",
       "3         9273   77533      12%      53%  \n",
       "4        16011  130390      12%      47%  "
      ]
     },
     "execution_count": 35,
     "metadata": {},
     "output_type": "execute_result"
    }
   ],
   "source": [
    "dfcomunas.head()"
   ]
  },
  {
   "cell_type": "code",
   "execution_count": 36,
   "metadata": {},
   "outputs": [
    {
     "data": {
      "text/html": [
       "<div>\n",
       "<style scoped>\n",
       "    .dataframe tbody tr th:only-of-type {\n",
       "        vertical-align: middle;\n",
       "    }\n",
       "\n",
       "    .dataframe tbody tr th {\n",
       "        vertical-align: top;\n",
       "    }\n",
       "\n",
       "    .dataframe thead th {\n",
       "        text-align: right;\n",
       "    }\n",
       "</style>\n",
       "<table border=\"1\" class=\"dataframe\">\n",
       "  <thead>\n",
       "    <tr style=\"text-align: right;\">\n",
       "      <th></th>\n",
       "      <th>Region</th>\n",
       "      <th>Codigo region</th>\n",
       "      <th>Comuna</th>\n",
       "      <th>Codigo comuna</th>\n",
       "      <th>% VACUNADOS</th>\n",
       "      <th>Poblacion</th>\n",
       "      <th>TOTAL VACUNADOS</th>\n",
       "      <th>15</th>\n",
       "      <th>16</th>\n",
       "      <th>17</th>\n",
       "      <th>...</th>\n",
       "      <th>71</th>\n",
       "      <th>72</th>\n",
       "      <th>73</th>\n",
       "      <th>74</th>\n",
       "      <th>75</th>\n",
       "      <th>76</th>\n",
       "      <th>77</th>\n",
       "      <th>78</th>\n",
       "      <th>79</th>\n",
       "      <th>80</th>\n",
       "    </tr>\n",
       "  </thead>\n",
       "  <tbody>\n",
       "    <tr>\n",
       "      <th>0</th>\n",
       "      <td>Metropolitana</td>\n",
       "      <td>13</td>\n",
       "      <td>Alhue</td>\n",
       "      <td>13502</td>\n",
       "      <td>68%</td>\n",
       "      <td>74050</td>\n",
       "      <td>50200</td>\n",
       "      <td>0</td>\n",
       "      <td>0</td>\n",
       "      <td>0</td>\n",
       "      <td>...</td>\n",
       "      <td>620</td>\n",
       "      <td>400</td>\n",
       "      <td>440</td>\n",
       "      <td>330</td>\n",
       "      <td>340</td>\n",
       "      <td>370</td>\n",
       "      <td>260</td>\n",
       "      <td>300</td>\n",
       "      <td>220</td>\n",
       "      <td>1860</td>\n",
       "    </tr>\n",
       "    <tr>\n",
       "      <th>1</th>\n",
       "      <td>Metropolitana</td>\n",
       "      <td>13</td>\n",
       "      <td>Buin</td>\n",
       "      <td>13402</td>\n",
       "      <td>62%</td>\n",
       "      <td>1096410</td>\n",
       "      <td>678220</td>\n",
       "      <td>0</td>\n",
       "      <td>0</td>\n",
       "      <td>0</td>\n",
       "      <td>...</td>\n",
       "      <td>5950</td>\n",
       "      <td>5370</td>\n",
       "      <td>4810</td>\n",
       "      <td>4290</td>\n",
       "      <td>4120</td>\n",
       "      <td>4130</td>\n",
       "      <td>3680</td>\n",
       "      <td>3530</td>\n",
       "      <td>2990</td>\n",
       "      <td>21530</td>\n",
       "    </tr>\n",
       "    <tr>\n",
       "      <th>2</th>\n",
       "      <td>Metropolitana</td>\n",
       "      <td>13</td>\n",
       "      <td>Calera de Tango</td>\n",
       "      <td>13403</td>\n",
       "      <td>70%</td>\n",
       "      <td>285250</td>\n",
       "      <td>199240</td>\n",
       "      <td>0</td>\n",
       "      <td>0</td>\n",
       "      <td>0</td>\n",
       "      <td>...</td>\n",
       "      <td>1930</td>\n",
       "      <td>1890</td>\n",
       "      <td>1420</td>\n",
       "      <td>1490</td>\n",
       "      <td>1310</td>\n",
       "      <td>1440</td>\n",
       "      <td>1250</td>\n",
       "      <td>1060</td>\n",
       "      <td>730</td>\n",
       "      <td>7110</td>\n",
       "    </tr>\n",
       "    <tr>\n",
       "      <th>3</th>\n",
       "      <td>Metropolitana</td>\n",
       "      <td>13</td>\n",
       "      <td>Cerrillos</td>\n",
       "      <td>13102</td>\n",
       "      <td>53%</td>\n",
       "      <td>889560</td>\n",
       "      <td>469290</td>\n",
       "      <td>0</td>\n",
       "      <td>0</td>\n",
       "      <td>0</td>\n",
       "      <td>...</td>\n",
       "      <td>4540</td>\n",
       "      <td>4710</td>\n",
       "      <td>4920</td>\n",
       "      <td>5060</td>\n",
       "      <td>3780</td>\n",
       "      <td>4270</td>\n",
       "      <td>3840</td>\n",
       "      <td>3750</td>\n",
       "      <td>3920</td>\n",
       "      <td>23610</td>\n",
       "    </tr>\n",
       "    <tr>\n",
       "      <th>4</th>\n",
       "      <td>Metropolitana</td>\n",
       "      <td>13</td>\n",
       "      <td>Cerro Navia</td>\n",
       "      <td>13103</td>\n",
       "      <td>47%</td>\n",
       "      <td>1424650</td>\n",
       "      <td>663470</td>\n",
       "      <td>0</td>\n",
       "      <td>0</td>\n",
       "      <td>0</td>\n",
       "      <td>...</td>\n",
       "      <td>8160</td>\n",
       "      <td>7750</td>\n",
       "      <td>7330</td>\n",
       "      <td>6810</td>\n",
       "      <td>7160</td>\n",
       "      <td>6310</td>\n",
       "      <td>5870</td>\n",
       "      <td>5540</td>\n",
       "      <td>4940</td>\n",
       "      <td>30690</td>\n",
       "    </tr>\n",
       "  </tbody>\n",
       "</table>\n",
       "<p>5 rows × 73 columns</p>\n",
       "</div>"
      ],
      "text/plain": [
       "          Region  Codigo region           Comuna  Codigo comuna % VACUNADOS  \\\n",
       "0  Metropolitana             13            Alhue          13502         68%   \n",
       "1  Metropolitana             13             Buin          13402         62%   \n",
       "2  Metropolitana             13  Calera de Tango          13403         70%   \n",
       "3  Metropolitana             13        Cerrillos          13102         53%   \n",
       "4  Metropolitana             13      Cerro Navia          13103         47%   \n",
       "\n",
       "   Poblacion  TOTAL VACUNADOS  15  16  17  ...    71    72    73    74    75  \\\n",
       "0      74050            50200   0   0   0  ...   620   400   440   330   340   \n",
       "1    1096410           678220   0   0   0  ...  5950  5370  4810  4290  4120   \n",
       "2     285250           199240   0   0   0  ...  1930  1890  1420  1490  1310   \n",
       "3     889560           469290   0   0   0  ...  4540  4710  4920  5060  3780   \n",
       "4    1424650           663470   0   0   0  ...  8160  7750  7330  6810  7160   \n",
       "\n",
       "     76    77    78    79     80  \n",
       "0   370   260   300   220   1860  \n",
       "1  4130  3680  3530  2990  21530  \n",
       "2  1440  1250  1060   730   7110  \n",
       "3  4270  3840  3750  3920  23610  \n",
       "4  6310  5870  5540  4940  30690  \n",
       "\n",
       "[5 rows x 73 columns]"
      ]
     },
     "execution_count": 36,
     "metadata": {},
     "output_type": "execute_result"
    }
   ],
   "source": [
    "dfvac.head()"
   ]
  },
  {
   "cell_type": "code",
   "execution_count": 64,
   "metadata": {
    "scrolled": false
   },
   "outputs": [
    {
     "data": {
      "text/plain": [
       "Text(0.5, 1.0, 'Muertes totales por semana desde 2016')"
      ]
     },
     "execution_count": 64,
     "metadata": {},
     "output_type": "execute_result"
    },
    {
     "data": {
      "image/png": "[encoded data removed]",
      "text/plain": [
       "<Figure size 1120x800 with 1 Axes>"
      ]
     },
     "metadata": {
      "needs_background": "light"
     },
     "output_type": "display_data"
    }
   ],
   "source": [
    "figure(figsize=(14, 10), dpi=80)\n",
    "plt.plot(dfcomunas['%VACUNAS'],dfcomunas['Comuna'])\n",
    "plt.plot(dfcomunas['PROP 65+'],dfcomunas['Comuna'])\n",
    "plt.xlabel('Semana')\n",
    "plt.ylabel('Defunciones')\n",
    "plt.title('Muertes totales por semana desde 2016')"
   ]
  },
  {
   "cell_type": "code",
   "execution_count": 58,
   "metadata": {
    "scrolled": true
   },
   "outputs": [],
   "source": [
    "dfcomunas = dfcomunas.sort_values(by='%VACUNAS', ascending=True, na_position='first')"
   ]
  },
  {
   "cell_type": "code",
   "execution_count": 53,
   "metadata": {},
   "outputs": [
    {
     "data": {
      "image/png": "[encoded data removed]",
      "text/plain": [
       "<Figure size 432x288 with 1 Axes>"
      ]
     },
     "metadata": {
      "needs_background": "light"
     },
     "output_type": "display_data"
    }
   ],
   "source": [
    "t = 1\n",
    "a = sin(t)\n",
    "b = cos(t)\n",
    "c = a + b\n",
    "\n",
    "plt.plot(t, a, t, b, t, c)\n",
    "plt.show()"
   ]
  }
 ],
 "metadata": {
  "kernelspec": {
   "display_name": "Python 3",
   "language": "python",
   "name": "python3"
  },
  "language_info": {
   "codemirror_mode": {
    "name": "ipython",
    "version": 3
   },
   "file_extension": ".py",
   "mimetype": "text/x-python",
   "name": "python",
   "nbconvert_exporter": "python",
   "pygments_lexer": "ipython3",
   "version": "3.8.5"
  }
 },
 "nbformat": 4,
 "nbformat_minor": 4
}
